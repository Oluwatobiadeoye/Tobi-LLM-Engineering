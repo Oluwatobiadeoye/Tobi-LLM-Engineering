{
 "cells": [
  {
   "cell_type": "code",
   "execution_count": null,
   "id": "4fee00bd",
   "metadata": {},
   "outputs": [],
   "source": [
    "import os\n",
    "from dotenv import load_dotenv\n",
    "from IPython.display import Markdown, display\n",
    "from openai import OpenAI\n",
    "import ollama\n",
    "\n",
    "load_dotenv(override=True)\n",
    "api_key = os.getenv(\"OPENAI_API_KEY\")\n",
    "\n",
    "if not api_key:\n",
    "    print(\"No API key was found!\")\n",
    "elif not api_key.startswith(\"sk-proj-\"):\n",
    "    print(\"An API key was found, but it does not start with 'sk-proj-'! Please ensure you are using the right key.\")\n",
    "elif api_key.strip() != api_key:\n",
    "    print(\"An API key was found, but it looks like it might have space or tab characters at the start or end! Please remove them.\")\n",
    "else:\n",
    "    print(\"API key found and looks good so far!\")\n",
    "\n",
    "\n",
    "openai_client = OpenAI()"
   ]
  },
  {
   "cell_type": "code",
   "execution_count": null,
   "id": "efb35394",
   "metadata": {},
   "outputs": [],
   "source": [
    "def prompt_template(email_body):\n",
    "    system_prompt = \"\"\"\n",
    "    You are a helpful assistant that analyses the content of an email and summarises it in a concise manner without losing any important information. Respond in markdown format.\n",
    "    \"\"\"\n",
    "    user_prompt = f\"\"\"\n",
    "    Here is the email body:\n",
    "    {email_body}\n",
    "    \"\"\"\n",
    "    return [\n",
    "        {\n",
    "            \"role\": \"system\",\n",
    "            \"content\": system_prompt\n",
    "        },\n",
    "        {\n",
    "            \"role\": \"user\",\n",
    "            \"content\": user_prompt\n",
    "        }\n",
    "    ]"
   ]
  },
  {
   "cell_type": "code",
   "execution_count": null,
   "id": "71ea5d73",
   "metadata": {},
   "outputs": [],
   "source": [
    "def summarize_email(email_body, use_ollama_model=False):\n",
    "    prompt = prompt_template(email_body)\n",
    "\n",
    "    if use_ollama_model:\n",
    "        ai_client = OpenAI(base_url='http://localhost:11434/v1', api_key='ollama')\n",
    "        model = \"llama3.2\"\n",
    "    else:\n",
    "        ai_client = openai_client\n",
    "        model = \"gpt-4o-mini\"\n",
    "\n",
    "    response = ai_client.chat.completions.create(\n",
    "        model=model,\n",
    "        messages=prompt\n",
    "    )   \n",
    "\n",
    "    return response.choices[0].message.content\n",
    "\n",
    "def display_summary(summary):\n",
    "    display(Markdown(summary))"
   ]
  },
  {
   "cell_type": "code",
   "execution_count": null,
   "id": "18f28d2e",
   "metadata": {},
   "outputs": [],
   "source": [
    "\n",
    "email_body = input('Enter the email body that you wish to summarize: ')\n",
    "email_summary = summarize_email(email_body, use_ollama_model=True)\n",
    "display_summary(email_summary)"
   ]
  }
 ],
 "metadata": {
  "kernelspec": {
   "display_name": "llms",
   "language": "python",
   "name": "python3"
  },
  "language_info": {
   "codemirror_mode": {
    "name": "ipython",
    "version": 3
   },
   "file_extension": ".py",
   "mimetype": "text/x-python",
   "name": "python",
   "nbconvert_exporter": "python",
   "pygments_lexer": "ipython3",
   "version": "3.11.13"
  }
 },
 "nbformat": 4,
 "nbformat_minor": 5
}
